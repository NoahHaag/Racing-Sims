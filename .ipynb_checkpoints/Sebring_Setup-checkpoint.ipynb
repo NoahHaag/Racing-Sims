{
 "cells": [
  {
   "cell_type": "code",
   "execution_count": 1,
   "id": "2872b54b",
   "metadata": {},
   "outputs": [],
   "source": [
    "import numpy as np\n",
    "import pandas as pd\n",
    "import matplotlib as plt"
   ]
  },
  {
   "cell_type": "code",
   "execution_count": null,
   "id": "1e5fbd8d",
   "metadata": {},
   "outputs": [],
   "source": [
    "data = pd.read_csv(\"2023-08-26 - 19-03-46 - Sebring 12h Course - P1.csv\")\n",
    "print(data.head())"
   ]
  }
 ],
 "metadata": {
  "kernelspec": {
   "display_name": "Python 3 (ipykernel)",
   "language": "python",
   "name": "python3"
  },
  "language_info": {
   "codemirror_mode": {
    "name": "ipython",
    "version": 3
   },
   "file_extension": ".py",
   "mimetype": "text/x-python",
   "name": "python",
   "nbconvert_exporter": "python",
   "pygments_lexer": "ipython3",
   "version": "3.9.12"
  }
 },
 "nbformat": 4,
 "nbformat_minor": 5
}
