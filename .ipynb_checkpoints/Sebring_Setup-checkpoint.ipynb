{
 "cells": [
  {
   "cell_type": "code",
   "execution_count": 10,
   "id": "f65d95ab",
   "metadata": {},
   "outputs": [],
   "source": [
    "import numpy as np\n",
    "import pandas as pd\n",
    "import matplotlib.pyplot as plt"
   ]
  },
  {
   "cell_type": "code",
   "execution_count": 17,
   "id": "f76b277e",
   "metadata": {},
   "outputs": [],
   "source": [
    "def data_prep(source):\n",
    "    data = (pd.read_csv(source, header=14)\n",
    "            .loc[3:]\n",
    "            .astype(np.float16)\n",
    "            )\n",
    "    return data"
   ]
  },
  {
   "cell_type": "code",
   "execution_count": 18,
   "id": "a914c80a",
   "metadata": {},
   "outputs": [
    {
     "name": "stderr",
     "output_type": "stream",
     "text": [
      "C:\\Users\\Noah\\AppData\\Local\\Temp\\ipykernel_30012\\1058944698.py:2: DtypeWarning: Columns (0,1,2,3,4,5,6,7,8,9,10,11,12,14,15,16,17,18,19,20,21,22,23,24,25,26,27,28,29,30,31,32,33,34,35,36,37,38,39,40,41,42,43,44,45,46,47,48,49,50,51,52,53,54,55,56,57,58,59,60,61,62,63,64,65,66,67,68,69,70,71,72,73,74,75,76,77,78,79,80,81,82,83,84) have mixed types. Specify dtype option on import or set low_memory=False.\n",
      "  data = (pd.read_csv(source, header=14)\n"
     ]
    }
   ],
   "source": [
    "source = \"2023-08-26 - 19-03-46 - Sebring 12h Course - P1.csv\"\n",
    "\n",
    "data = data_prep(source)"
   ]
  },
  {
   "cell_type": "code",
   "execution_count": 13,
   "id": "e412520b",
   "metadata": {},
   "outputs": [
    {
     "data": {
      "text/html": [
       "<div>\n",
       "<style scoped>\n",
       "    .dataframe tbody tr th:only-of-type {\n",
       "        vertical-align: middle;\n",
       "    }\n",
       "\n",
       "    .dataframe tbody tr th {\n",
       "        vertical-align: top;\n",
       "    }\n",
       "\n",
       "    .dataframe thead th {\n",
       "        text-align: right;\n",
       "    }\n",
       "</style>\n",
       "<table border=\"1\" class=\"dataframe\">\n",
       "  <thead>\n",
       "    <tr style=\"text-align: right;\">\n",
       "      <th></th>\n",
       "      <th>Time</th>\n",
       "      <th>Distance</th>\n",
       "      <th>Ground Speed</th>\n",
       "      <th>Engine RPM</th>\n",
       "      <th>Throttle Pos</th>\n",
       "      <th>Brake Pos</th>\n",
       "      <th>Clutch Pos</th>\n",
       "      <th>Steering</th>\n",
       "      <th>G Force Lat</th>\n",
       "      <th>G Force Long</th>\n",
       "      <th>...</th>\n",
       "      <th>Toe FL</th>\n",
       "      <th>Toe FR</th>\n",
       "      <th>Toe RL</th>\n",
       "      <th>Toe RR</th>\n",
       "      <th>Front 3rd Pos</th>\n",
       "      <th>Rear 3rd Pos</th>\n",
       "      <th>Brake Pressure FL</th>\n",
       "      <th>Brake Pressure FR</th>\n",
       "      <th>Brake Pressure RL</th>\n",
       "      <th>Brake Pressure RR</th>\n",
       "    </tr>\n",
       "  </thead>\n",
       "  <tbody>\n",
       "    <tr>\n",
       "      <th>3</th>\n",
       "      <td>0.000000</td>\n",
       "      <td>0.0</td>\n",
       "      <td>2.130859</td>\n",
       "      <td>4088.0</td>\n",
       "      <td>38.40625</td>\n",
       "      <td>0.0</td>\n",
       "      <td>0.0</td>\n",
       "      <td>5.382812</td>\n",
       "      <td>0.0</td>\n",
       "      <td>-0.27002</td>\n",
       "      <td>...</td>\n",
       "      <td>0.018906</td>\n",
       "      <td>0.020096</td>\n",
       "      <td>0.0013</td>\n",
       "      <td>-0.0014</td>\n",
       "      <td>22.640625</td>\n",
       "      <td>21.125000</td>\n",
       "      <td>0.0</td>\n",
       "      <td>0.0</td>\n",
       "      <td>0.0</td>\n",
       "      <td>0.0</td>\n",
       "    </tr>\n",
       "    <tr>\n",
       "      <th>4</th>\n",
       "      <td>0.010002</td>\n",
       "      <td>0.0</td>\n",
       "      <td>2.220703</td>\n",
       "      <td>4072.0</td>\n",
       "      <td>38.40625</td>\n",
       "      <td>0.0</td>\n",
       "      <td>0.0</td>\n",
       "      <td>5.511719</td>\n",
       "      <td>0.0</td>\n",
       "      <td>-0.27002</td>\n",
       "      <td>...</td>\n",
       "      <td>0.019302</td>\n",
       "      <td>0.020493</td>\n",
       "      <td>0.0013</td>\n",
       "      <td>-0.0014</td>\n",
       "      <td>22.625000</td>\n",
       "      <td>21.156250</td>\n",
       "      <td>0.0</td>\n",
       "      <td>0.0</td>\n",
       "      <td>0.0</td>\n",
       "      <td>0.0</td>\n",
       "    </tr>\n",
       "    <tr>\n",
       "      <th>5</th>\n",
       "      <td>0.020004</td>\n",
       "      <td>0.0</td>\n",
       "      <td>2.310547</td>\n",
       "      <td>4054.0</td>\n",
       "      <td>38.40625</td>\n",
       "      <td>0.0</td>\n",
       "      <td>0.0</td>\n",
       "      <td>5.636719</td>\n",
       "      <td>0.0</td>\n",
       "      <td>-0.27002</td>\n",
       "      <td>...</td>\n",
       "      <td>0.019806</td>\n",
       "      <td>0.020996</td>\n",
       "      <td>0.0013</td>\n",
       "      <td>-0.0014</td>\n",
       "      <td>22.593750</td>\n",
       "      <td>21.187500</td>\n",
       "      <td>0.0</td>\n",
       "      <td>0.0</td>\n",
       "      <td>0.0</td>\n",
       "      <td>0.0</td>\n",
       "    </tr>\n",
       "    <tr>\n",
       "      <th>6</th>\n",
       "      <td>0.029999</td>\n",
       "      <td>0.0</td>\n",
       "      <td>2.400391</td>\n",
       "      <td>4038.0</td>\n",
       "      <td>38.40625</td>\n",
       "      <td>0.0</td>\n",
       "      <td>0.0</td>\n",
       "      <td>5.761719</td>\n",
       "      <td>0.0</td>\n",
       "      <td>-0.26001</td>\n",
       "      <td>...</td>\n",
       "      <td>0.020203</td>\n",
       "      <td>0.021393</td>\n",
       "      <td>0.0013</td>\n",
       "      <td>-0.0014</td>\n",
       "      <td>22.546875</td>\n",
       "      <td>21.203125</td>\n",
       "      <td>0.0</td>\n",
       "      <td>0.0</td>\n",
       "      <td>0.0</td>\n",
       "      <td>0.0</td>\n",
       "    </tr>\n",
       "    <tr>\n",
       "      <th>7</th>\n",
       "      <td>0.040009</td>\n",
       "      <td>0.0</td>\n",
       "      <td>2.490234</td>\n",
       "      <td>4022.0</td>\n",
       "      <td>38.40625</td>\n",
       "      <td>0.0</td>\n",
       "      <td>0.0</td>\n",
       "      <td>5.886719</td>\n",
       "      <td>0.0</td>\n",
       "      <td>-0.26001</td>\n",
       "      <td>...</td>\n",
       "      <td>0.020706</td>\n",
       "      <td>0.021896</td>\n",
       "      <td>0.0013</td>\n",
       "      <td>-0.0014</td>\n",
       "      <td>22.500000</td>\n",
       "      <td>21.234375</td>\n",
       "      <td>0.0</td>\n",
       "      <td>0.0</td>\n",
       "      <td>0.0</td>\n",
       "      <td>0.0</td>\n",
       "    </tr>\n",
       "  </tbody>\n",
       "</table>\n",
       "<p>5 rows × 85 columns</p>\n",
       "</div>"
      ],
      "text/plain": [
       "       Time  Distance  Ground Speed  Engine RPM  Throttle Pos  Brake Pos  \\\n",
       "3  0.000000       0.0      2.130859      4088.0      38.40625        0.0   \n",
       "4  0.010002       0.0      2.220703      4072.0      38.40625        0.0   \n",
       "5  0.020004       0.0      2.310547      4054.0      38.40625        0.0   \n",
       "6  0.029999       0.0      2.400391      4038.0      38.40625        0.0   \n",
       "7  0.040009       0.0      2.490234      4022.0      38.40625        0.0   \n",
       "\n",
       "   Clutch Pos  Steering  G Force Lat  G Force Long  ...    Toe FL    Toe FR  \\\n",
       "3         0.0  5.382812          0.0      -0.27002  ...  0.018906  0.020096   \n",
       "4         0.0  5.511719          0.0      -0.27002  ...  0.019302  0.020493   \n",
       "5         0.0  5.636719          0.0      -0.27002  ...  0.019806  0.020996   \n",
       "6         0.0  5.761719          0.0      -0.26001  ...  0.020203  0.021393   \n",
       "7         0.0  5.886719          0.0      -0.26001  ...  0.020706  0.021896   \n",
       "\n",
       "   Toe RL  Toe RR  Front 3rd Pos  Rear 3rd Pos  Brake Pressure FL  \\\n",
       "3  0.0013 -0.0014      22.640625     21.125000                0.0   \n",
       "4  0.0013 -0.0014      22.625000     21.156250                0.0   \n",
       "5  0.0013 -0.0014      22.593750     21.187500                0.0   \n",
       "6  0.0013 -0.0014      22.546875     21.203125                0.0   \n",
       "7  0.0013 -0.0014      22.500000     21.234375                0.0   \n",
       "\n",
       "   Brake Pressure FR  Brake Pressure RL  Brake Pressure RR  \n",
       "3                0.0                0.0                0.0  \n",
       "4                0.0                0.0                0.0  \n",
       "5                0.0                0.0                0.0  \n",
       "6                0.0                0.0                0.0  \n",
       "7                0.0                0.0                0.0  \n",
       "\n",
       "[5 rows x 85 columns]"
      ]
     },
     "execution_count": 13,
     "metadata": {},
     "output_type": "execute_result"
    }
   ],
   "source": [
    "data.head()"
   ]
  },
  {
   "cell_type": "code",
   "execution_count": 14,
   "id": "44e206cb",
   "metadata": {},
   "outputs": [
    {
     "data": {
      "image/png": "[encoded data removed]",
      "text/plain": [
       "<Figure size 432x288 with 2 Axes>"
      ]
     },
     "metadata": {
      "needs_background": "light"
     },
     "output_type": "display_data"
    }
   ],
   "source": [
    "f, ax = plt.subplots()\n",
    "points = plt.scatter(x=data['Distance'], y=data['Ground Speed'], c=data['Gear'])\n",
    "plt.xlim(6021, 6021*2) # remove the outlap (track distance for Sebring is 6021 meters)\n",
    "plt.xlabel(\"Distance\")\n",
    "plt.ylabel(\"Ground Speed\")\n",
    "f.colorbar(points).set_label(\"Gear\")\n",
    "plt.show()"
   ]
  },
  {
   "cell_type": "markdown",
   "id": "8b41f70f",
   "metadata": {},
   "source": [
    "The first thing to note is the poor shifting towards the end of the lap. Sebring does have a long last corner but coming down from 6th earlier might help with rotating the car into the final turn. "
   ]
  },
  {
   "cell_type": "code",
   "execution_count": 9,
   "id": "e7638e58",
   "metadata": {},
   "outputs": [
    {
     "data": {
      "image/png": "[encoded data removed]",
      "text/plain": [
       "<Figure size 432x288 with 1 Axes>"
      ]
     },
     "metadata": {
      "needs_background": "light"
     },
     "output_type": "display_data"
    }
   ],
   "source": []
  }
 ],
 "metadata": {
  "kernelspec": {
   "display_name": "Python 3 (ipykernel)",
   "language": "python",
   "name": "python3"
  },
  "language_info": {
   "codemirror_mode": {
    "name": "ipython",
    "version": 3
   },
   "file_extension": ".py",
   "mimetype": "text/x-python",
   "name": "python",
   "nbconvert_exporter": "python",
   "pygments_lexer": "ipython3",
   "version": "3.9.12"
  }
 },
 "nbformat": 4,
 "nbformat_minor": 5
}
